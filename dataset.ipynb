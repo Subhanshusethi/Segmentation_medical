{
 "cells": [
  {
   "cell_type": "code",
   "execution_count": 6,
   "metadata": {},
   "outputs": [],
   "source": [
    "import os\n",
    "from PIL import Image\n",
    "from torch.utils.data import Dataset\n",
    "import numpy as np\n",
    "import matplotlib.pyplot as plt\n",
    "import cv2"
   ]
  },
  {
   "cell_type": "code",
   "execution_count": 7,
   "metadata": {},
   "outputs": [],
   "source": [
    "kernel = np.ones((6, 6), np.uint8)"
   ]
  },
  {
   "cell_type": "code",
   "execution_count": 8,
   "metadata": {},
   "outputs": [],
   "source": [
    "class Medical(Dataset):\n",
    "    def __init__(self,image_dir , mask_dir , transform = None):\n",
    "        self.image_dir = image_dir\n",
    "        self.mask_dir = mask_dir\n",
    "        self.transform = transform\n",
    "        self.images =[img for img in os.listdir(image_dir)\n",
    "        if os.path.exists(os.path.join(image_dir, img)) and \n",
    "        os.path.exists(os.path.join(mask_dir, img.replace(\".png\", \"_Annotation.png\")))]\n",
    "\n",
    "    def __len__(self):\n",
    "        return len(self.images)\n",
    "    \n",
    "    def __getitem__(self,index):\n",
    "\n",
    "        img_path = os.path.join(self.image_dir,self.images[index])\n",
    "        mask_path = os.path.join(self.mask_dir , self.images[index].replace(\".png\",\"_Annotation.png\"))\n",
    "        if not os.path.exists(img_path):\n",
    "            print(f\"Image file {img_path} does not exist.\")\n",
    "            return None\n",
    "        if not os.path.exists(mask_path):\n",
    "            print(f\"Mask file {mask_path} does not exist.\")\n",
    "            return None\n",
    "        image = np.array(Image.open(img_path).convert(\"L\"),dtype =np.float32)\n",
    "        mask = np.array(Image.open(mask_path).convert(\"L\") , dtype =np.float32)\n",
    "        mask = cv2.dilate(mask, kernel, iterations=1) \n",
    "        mask[mask==255.0]=1.0\n",
    "\n",
    "        if self.transform is not None:\n",
    "            augmentation = self.transform(image=image,mask=mask)\n",
    "            image = augmentation[\"image\"]\n",
    "            mask = augmentation[\"mask\"]\n",
    "\n",
    "        return image , mask"
   ]
  }
 ],
 "metadata": {
  "kernelspec": {
   "display_name": "pytorchgpu",
   "language": "python",
   "name": "python3"
  },
  "language_info": {
   "codemirror_mode": {
    "name": "ipython",
    "version": 3
   },
   "file_extension": ".py",
   "mimetype": "text/x-python",
   "name": "python",
   "nbconvert_exporter": "python",
   "pygments_lexer": "ipython3",
   "version": "3.12.1"
  }
 },
 "nbformat": 4,
 "nbformat_minor": 2
}
